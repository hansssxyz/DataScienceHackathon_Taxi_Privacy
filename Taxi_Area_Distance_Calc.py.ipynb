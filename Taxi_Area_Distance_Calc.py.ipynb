{
 "cells": [
  {
   "cell_type": "code",
   "execution_count": 1,
   "id": "1904d188",
   "metadata": {},
   "outputs": [],
   "source": [
    "import csv\n",
    "from enum import Enum\n",
    "import sys\n",
    "import matplotlib.pyplot as plt\n",
    "\n",
    "output = {}\n",
    "csv.field_size_limit(sys.maxsize)\n",
    "\n",
    "class zones(Enum):\n",
    "    OBJECTID   = 0\n",
    "    Shape_Leng = 1\n",
    "    the_geom   = 2\n",
    "    Shape_Area = 3\n",
    "    zone       = 4\n",
    "    LocationID = 5\n",
    "    borough    = 6\n",
    "\n",
    "min_x = -50\n",
    "max_x = -100\n",
    "min_y = 70\n",
    "max_y = 0\n",
    "\n",
    "with open(\"./taxi_zones.csv\", 'r') as file:\n",
    "    csvreader = csv.reader(file)\n",
    "    row_count = 0\n",
    "    for row in csvreader:\n",
    "        if row_count == 0:\n",
    "            row_count += 1\n",
    "            continue\n",
    "        x = 0\n",
    "        y = 0\n",
    "        tmp = row[zones.the_geom.value][16:-3].split(\", \")\n",
    "        size = len(tmp)\n",
    "        for i in tmp:\n",
    "            t = i.split(\" \")\n",
    "            try:\n",
    "                x += float(t[0])\n",
    "                y += float(t[1])\n",
    "            except:\n",
    "                x += float(t[0][2:])\n",
    "                y += float(t[1][:-2])\n",
    "        res = [x / size]\n",
    "        res.append(y /size)\n",
    "        if res[0] < min_x:\n",
    "            min_x=res[0]\n",
    "        elif res[0] > max_x:\n",
    "            max_x=res[0]\n",
    "        elif res[1] < min_y:\n",
    "            min_y=res[1]\n",
    "        elif res[1] > max_y:\n",
    "            max_y=res[1]\n",
    "        output[int(row[zones.OBJECTID.value])]=res"
   ]
  },
  {
   "cell_type": "code",
   "execution_count": 2,
   "id": "7b099bce",
   "metadata": {},
   "outputs": [
    {
     "data": {
      "text/plain": [
       "[-74.174270275862, 40.69024330172404]"
      ]
     },
     "execution_count": 2,
     "metadata": {},
     "output_type": "execute_result"
    }
   ],
   "source": [
    "output[1]"
   ]
  },
  {
   "cell_type": "code",
   "execution_count": 3,
   "id": "f08bf724",
   "metadata": {},
   "outputs": [],
   "source": [
    "x_diff = max_x - min_x\n",
    "y_diff = max_y - min_y\n",
    "\n",
    "y_var = (max_y - min_y)/2\n",
    "y_lower = (max_x - min_x)/2 - y_var"
   ]
  },
  {
   "cell_type": "code",
   "execution_count": 4,
   "id": "71966401",
   "metadata": {},
   "outputs": [],
   "source": [
    "sorted_output_key = sorted(output)\n",
    "sorted_output     = {}\n",
    "for i in sorted_output_key:\n",
    "    temp = [(output[i][0]-min_x) / x_diff * 100]\n",
    "    temp.append(((output[i][1]-min_y) + y_lower) / x_diff * 100)\n",
    "    sorted_output[i] = temp"
   ]
  },
  {
   "cell_type": "code",
   "execution_count": 5,
   "id": "4cdca75a",
   "metadata": {},
   "outputs": [],
   "source": [
    "with open('coordinates.csv', 'w', newline='') as file:\n",
    "    writer = csv.writer(file)\n",
    "     \n",
    "    writer.writerow([\"ObjectID\", \"X\", \"Y\"])\n",
    "    for key in sorted_output.keys():\n",
    "        writer.writerow([key, sorted_output[key][0], sorted_output[key][1]])"
   ]
  },
  {
   "cell_type": "code",
   "execution_count": 6,
   "id": "4bb993db",
   "metadata": {},
   "outputs": [
    {
     "data": {
      "image/png": "[encoded data removed]",
      "text/plain": [
       "<Figure size 432x288 with 1 Axes>"
      ]
     },
     "metadata": {
      "needs_background": "light"
     },
     "output_type": "display_data"
    }
   ],
   "source": [
    "x_crds = []\n",
    "y_crds = []\n",
    "for loc in sorted_output:\n",
    "    x_crds.append(sorted_output[loc][0])\n",
    "    y_crds.append(sorted_output[loc][1])\n",
    "plt.scatter(x_crds, y_crds, s=1)\n",
    "plt.show()"
   ]
  },
  {
   "cell_type": "code",
   "execution_count": null,
   "id": "24727249",
   "metadata": {},
   "outputs": [],
   "source": []
  },
  {
   "cell_type": "code",
   "execution_count": null,
   "id": "43de9e94",
   "metadata": {},
   "outputs": [],
   "source": []
  }
 ],
 "metadata": {
  "kernelspec": {
   "display_name": "Python 3 (ipykernel)",
   "language": "python",
   "name": "python3"
  },
  "language_info": {
   "codemirror_mode": {
    "name": "ipython",
    "version": 3
   },
   "file_extension": ".py",
   "mimetype": "text/x-python",
   "name": "python",
   "nbconvert_exporter": "python",
   "pygments_lexer": "ipython3",
   "version": "3.9.7"
  }
 },
 "nbformat": 4,
 "nbformat_minor": 5
}
